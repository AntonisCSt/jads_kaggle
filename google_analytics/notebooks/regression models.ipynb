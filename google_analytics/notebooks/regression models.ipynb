{
 "cells": [
  {
   "cell_type": "markdown",
   "metadata": {},
   "source": [
    "# Regression models\n",
    "\n",
    "In this notebook we show how the tuning library can be called for any regression predictor implementing our `fit` and `evaluate` methods.\n",
    "The tuning process can be differentiated based on a number of different settings, most importantly the set of parameters to be explored and the method of evaluation. The latter is by default set to train-test split for timing reasons (since GridSearch is a computationally expensive procedure). However more robust results are likely using `method='CV'`"
   ]
  },
  {
   "cell_type": "code",
   "execution_count": null,
   "metadata": {},
   "outputs": [],
   "source": [
    "import pandas as pd\n",
    "import numpy as np\n",
    "\n",
    "import sys\n",
    "sys.path.append('..')\n",
    "\n",
    "from regressors import RidgePredictor, LassoPredictor, RandomForestPredictor\n",
    "from tuning import tune, bayesian_optimization"
   ]
  },
  {
   "cell_type": "code",
   "execution_count": null,
   "metadata": {},
   "outputs": [],
   "source": [
    "rows = 100\n",
    "columns = 10\n",
    "\n",
    "#train_y = round(pd.DataFrame([int(i) for i in train_y]),2)\n",
    "train_y = [np.random.randint(1, 3) for i in range(rows)]\n",
    "train_x, test_x = round(pd.DataFrame(np.random.rand(rows, columns)*1000), 2) , round(pd.DataFrame(np.random.rand(rows,columns)*100), 2)\n",
    "\n",
    "# Define output file\n",
    "write_to = '../data/tuning.txt'"
   ]
  },
  {
   "cell_type": "code",
   "execution_count": null,
   "metadata": {},
   "outputs": [],
   "source": [
    "param_grid = {\n",
    "    'max_depth': [3,4,5,6,7,8,9]\n",
    "}\n",
    "\n",
    "best_params, best_score = tune(RandomForestPredictor, train_x, train_y, param_grid, silent=False, persist=False, write_to=write_to)\n",
    "print(\"Optimal parameters achieve log loss = {}\".format(best_score))"
   ]
  },
  {
   "cell_type": "code",
   "execution_count": null,
   "metadata": {},
   "outputs": [],
   "source": [
    "param_grid = {\n",
    "    'alpha': np.logspace(-10, -2, 15),\n",
    "    'normalize': [True], #otherwise we have to preprocess teh data before fitting the model\n",
    "}\n",
    "\n",
    "best_params, best_score = tune(RidgePredictor, train_x, train_y, param_grid, silent=False, persist=False, write_to=write_to)\n",
    "print(\"Optimal parameters achieve log loss = {}\".format(best_score))"
   ]
  },
  {
   "cell_type": "code",
   "execution_count": null,
   "metadata": {},
   "outputs": [],
   "source": [
    "param_grid = {\n",
    "    'alpha': np.logspace(-10, -2, 15),\n",
    "    'normalize': [False] #only if the data is not normalized!!\n",
    "}\n",
    "\n",
    "best_params, best_score = tune(LassoPredictor, train_x, train_y, param_grid, silent=False, persist=False, write_to=write_to)\n",
    "print(\"Optimal parameters achieve log loss = {}\".format(best_score))"
   ]
  },
  {
   "cell_type": "code",
   "execution_count": null,
   "metadata": {},
   "outputs": [],
   "source": []
  }
 ],
 "metadata": {
  "kernelspec": {
   "display_name": "Python 3",
   "language": "python",
   "name": "python3"
  },
  "language_info": {
   "codemirror_mode": {
    "name": "ipython",
    "version": 3
   },
   "file_extension": ".py",
   "mimetype": "text/x-python",
   "name": "python",
   "nbconvert_exporter": "python",
   "pygments_lexer": "ipython3",
   "version": "3.6.5"
  }
 },
 "nbformat": 4,
 "nbformat_minor": 2
}
