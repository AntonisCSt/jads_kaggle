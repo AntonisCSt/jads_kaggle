{
 "cells": [
  {
   "cell_type": "markdown",
   "metadata": {
    "collapsed": true
   },
   "source": [
    "# Tuning models\n",
    "\n",
    "In this notebook we show how the tuning library can be called for any predictor implementing our `fit` and `evaluate` methods.\n",
    "The tuning process can be differentiated based on a number of different settings, most importantly the set of parameters to be explored and the method of evaluation. The latter is by default set to train-test split for timing reasons (since GridSearch is a computationally expensive procedure). However more robust results are likely using `method='CV'`"
   ]
  },
  {
   "cell_type": "code",
   "execution_count": null,
   "metadata": {},
   "outputs": [],
   "source": [
    "import pandas as pd\n",
    "\n",
    "import sys\n",
    "sys.path.append('..')\n",
    "\n",
    "from linear_predictor import LogisticPredictor\n",
    "from utils import tune, TAGS\n",
    "from preprocessing import tf_idf\n",
    "\n",
    "train = pd.read_csv(\"../data/train.csv\")\n",
    "test = pd.read_csv(\"../data/test.csv\")\n",
    "\n",
    "# Preprocess raw text data\n",
    "train_ys = {tag: train[tag].values for tag in TAGS}\n",
    "train_x, test_x = tf_idf(train, test)\n",
    "\n",
    "param_grid = {\n",
    "    'C': [4, 5],\n",
    "    'dual': [True, False]\n",
    "}\n",
    "\n",
    "tune(LogisticPredictor, train_x, train_ys, param_grid, persist=False)"
   ]
  }
 ],
 "metadata": {
  "kernelspec": {
   "display_name": "Python 3",
   "language": "python",
   "name": "python3"
  }
 },
 "nbformat": 4,
 "nbformat_minor": 2
}
