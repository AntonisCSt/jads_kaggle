{
 "cells": [
  {
   "cell_type": "markdown",
   "metadata": {},
   "source": [
    "# Using our developed libraries\n",
    "\n",
    "In order to quickly use or inspect the developed libraries, as well as interactively visualize their results we can use\n",
    "those notebooks.\n",
    "\n",
    "**NOTE**: Please remember to clear all output before commiting any .ipynb file by doing: `Cell -> All Outputs -> Clear` "
   ]
  },
  {
   "cell_type": "code",
   "execution_count": null,
   "metadata": {
    "collapsed": true
   },
   "outputs": [],
   "source": [
    "import pandas as pd\n",
    "import numpy as np\n",
    "\n",
    "import sys\n",
    "sys.path.append(\"..\") # Append source directory to our Python path\n",
    "\n",
    "from predictor import Predictor\n",
    "from linear_predictor import LogisticPredictor\n",
    "from preprocessing import *\n",
    "from utils import *\n",
    "\n",
    "train = pd.read_csv(\"../data/train.csv\")\n",
    "test = pd.read_csv(\"../data/test.csv\")"
   ]
  },
  {
   "cell_type": "code",
   "execution_count": null,
   "metadata": {
    "collapsed": true
   },
   "outputs": [],
   "source": [
    "# Extract the true labels needed for training\n",
    "train_ys = {tag: train[tag].values for tag in TAGS}\n",
    "\n",
    "# Extract the test set ids needed for submitting\n",
    "ids = test['id']"
   ]
  },
  {
   "cell_type": "markdown",
   "metadata": {},
   "source": [
    "## Lets test our preprocessing functions.\n",
    "\n",
    "The `tf_idf` transformation produces a sparse matrix representation."
   ]
  },
  {
   "cell_type": "code",
   "execution_count": null,
   "metadata": {},
   "outputs": [],
   "source": [
    "train_x, test_x = tf_idf(train, test)\n",
    "\n",
    "assert train_x.shape[1] == test_x.shape[1]\n",
    "print(\"The tf_idf algorithm created {} features per sample\".format(train_x.shape[1]))"
   ]
  },
  {
   "cell_type": "markdown",
   "metadata": {},
   "source": [
    "## Using the processed dataset to train a linear predictor\n",
    "\n",
    "Lets check whether our predictor implementations can fit the processed datasets."
   ]
  },
  {
   "cell_type": "code",
   "execution_count": null,
   "metadata": {},
   "outputs": [],
   "source": [
    "lr_params = {\"C\": 4, \"dual\": True}\n",
    "predictor = LogisticPredictor(lr_params)\n",
    "\n",
    "predictor.evaluate(train_x, train_ys)"
   ]
  },
  {
   "cell_type": "code",
   "execution_count": null,
   "metadata": {},
   "outputs": [],
   "source": [
    "create_submission(predictor, train_x, train_ys, test_x, ids, '../submissions/first_attempt.csv')"
   ]
  }
 ],
 "metadata": {
  "kernelspec": {
   "display_name": "Python 3",
   "language": "python",
   "name": "python3"
  },
  "language_info": {
   "codemirror_mode": {
    "name": "ipython",
    "version": 3
   },
   "file_extension": ".py",
   "mimetype": "text/x-python",
   "name": "python",
   "nbconvert_exporter": "python",
   "pygments_lexer": "ipython3",
   "version": "3.6.3"
  }
 },
 "nbformat": 4,
 "nbformat_minor": 1
}
